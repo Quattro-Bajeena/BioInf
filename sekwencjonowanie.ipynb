{
 "cells": [
  {
   "cell_type": "code",
   "execution_count": 5,
   "metadata": {},
   "outputs": [
    {
     "name": "stderr",
     "output_type": "stream",
     "text": [
      "C:\\Users\\mateu\\AppData\\Local\\Temp\\ipykernel_2184\\4169471348.py:5: MatplotlibDeprecationWarning: The seaborn styles shipped by Matplotlib are deprecated since 3.6, as they no longer correspond to the styles shipped by seaborn. However, they will remain available as 'seaborn-v0_8-<style>'. Alternatively, directly use the seaborn API instead.\n",
      "  plt.style.use(\"seaborn\")\n"
     ]
    }
   ],
   "source": [
    "import numpy as np\n",
    "import matplotlib.pyplot as plt\n",
    "%matplotlib inline\n",
    "%config InlineBackend.figure_format = 'svg'\n",
    "plt.style.use(\"seaborn\")\n",
    "np.random.seed(42)\n",
    "\n",
    "def edge_cost(frag1, frag2):\n",
    "    if frag1 == frag2:\n",
    "        return 0\n",
    "    cost = len(frag1)\n",
    "    for i in range(len(frag1)):\n",
    "        sub1 = frag1[i+1:]\n",
    "        sub2 = frag2[0:-i-1]\n",
    "        # print(sub1, sub2)\n",
    "        if sub1 == sub2:\n",
    "            return i+1\n",
    "    return cost\n",
    "\n",
    "def create_cost_matrix(nodes):\n",
    "    matrix = np.zeros([len(nodes), len(nodes)])\n",
    "    for frag_from in nodes:\n",
    "        for frag_to in nodes:\n",
    "            cost = edge_cost(frag_from.value, frag_to.value)\n",
    "            matrix[frag_from.id][frag_to.id] = cost\n",
    "    return matrix\n",
    "\n",
    "class Node:\n",
    "    def __init__(self, id, value):\n",
    "        self.id = id\n",
    "        self.value = value\n",
    "\n",
    "    def __str__(self) -> str:\n",
    "        return str(self.value)\n",
    "    \n",
    "    def __repr__(self) -> str:\n",
    "        return f\"{self.id}/{self.value}\""
   ]
  },
  {
   "cell_type": "code",
   "execution_count": 6,
   "metadata": {},
   "outputs": [
    {
     "name": "stdout",
     "output_type": "stream",
     "text": [
      "['AAGGCCGGCT', 'ACACCCGCCG', 'ACCAGGGCGT', 'ACCATGGATG', 'ACCCGCCGCC', 'ACGATGCCCC', 'AGAAGGATTC', 'AGCTCACCAT', 'AGGCACCAGG', 'AGGCCGGCTT', 'AGGGCGTGAT', 'ATATCGCCGC', 'ATCCGCCGCC', 'ATCGCCGCGC', 'ATGATATCGC', 'ATGATGATAT', 'ATGCCCCCCG', 'ATGGATGATG', 'CAAGGCCGGC', 'CACACCCGCC', 'CACCCGCCGC', 'CAGAAGGATT', 'CAGCTCACCA', 'CAGGCACCAG', 'CAGGGCGTGA', 'CATGGATGAT', 'CATGGGTCAG', 'CATGTGCAAG', 'CCACACCCGC', 'CCAGCTCACC', 'CCAGGCACCA', 'CCAGGGCGTG', 'CCATCGTGGG', 'CCATGGATGA', 'CCCAGGCACC', 'CCCCAGGCAC', 'CCCCCCGGGC', 'CCCCCGGGCC', 'CCCCGGGCCG', 'CCCCTCCATC', 'CCCGCCGCCA', 'CCCGGGCCGT', 'CCCGTCCACA', 'CCCTCCATCG', 'CCGATCCGCC', 'CCGCCGCCAG', 'CCGCCGCCCG', 'CCGCGCTCGT', 'CCGGCTTCGC', 'CCGGGCCGTC', 'CCGTCCACAC', 'CCGTCTTCCC', 'CCTATGTGGG', 'CCTCCATCGT', 'CGACAACGGC', 'CGACGATGCC', 'CGATCCGCCG', 'CGATGCCCCC', 'CGCCAGCTCA', 'CGCCCCAGGC', 'CGCCCGTCCA', 'CGCCGCCAGC', 'CGCCGCGCTC', 'CGCGCTCGTC', 'CGCGGGCGAC', 'CGCTCGTCGT', 'CGGCATGTGC', 'CGGCTCCGGC', 'CGGCTTCGCG', 'CGGGCCGTCT', 'CGGGCGACGA', 'CGTCGACAAC', 'CGTCGTCGAC', 'CGTCTTCCCC', 'CGTGATGGTG', 'CGTGGGGCGC', 'CTATGTGGGC', 'CTCCATCGTG', 'CTCCGGCATG', 'CTCGTCGTCG', 'CTTCCCCTCC', 'CTTCGCGGGC', 'GAAGGATTCC', 'GACAACGGCT', 'GACGATGCCC', 'GATATCGCCG', 'GATCCGCCGC', 'GATGATATCG', 'GATGCCCCCC', 'GATTCCTATG', 'GCAAGGCCGG', 'GCACCAGGGC', 'GCATGGGTCA', 'GCCAGCTCAC', 'GCCCCAGGCA', 'GCCCGTCCAC', 'GCCGATCCGC', 'GCCGCCAGCT', 'GCCGGCTTCG', 'GCGACGATGC', 'GCGCCCCAGG', 'GCGCTCGTCG', 'GCGGGCGACG', 'GCGTGATGGT', 'GCTCACCATG', 'GCTCCGGCAT', 'GCTCGTCGTC', 'GGATGATGAT', 'GGATTCCTAT', 'GGCATGGGTC', 'GGCATGTGCA', 'GGCCGGCTTC', 'GGCCGTCTTC', 'GGCGACGATG', 'GGCGCCCCAG', 'GGCGTGATGG', 'GGCTCCGGCA', 'GGCTTCGCGG', 'GGGCATGGGT', 'GGGCGACGAT', 'GGGCGCCCCA', 'GGGCGTGATG', 'GGGGCGCCCC', 'GGTCAGAAGG', 'GGTGGGCATG', 'GTCAGAAGGA', 'GTCCACACCC', 'GTCGACAACG', 'GTCTTCCCCT', 'GTGATGGTGG', 'GTGCAAGGCC', 'GTGGGCATGG', 'GTGGGGCGCC', 'TATGTGGGCG', 'TCAGAAGGAT', 'TCCACACCCG', 'TCCATCGTGG', 'TCCCCTCCAT', 'TCCGCCGCCC', 'TCCGGCATGT', 'TCCTATGTGG', 'TCGACAACGG', 'TCGCCGCGCT', 'TCGCGGGCGA', 'TCGTCGTCGA', 'TCGTGGGGCG', 'TCTTCCCCTC', 'TGATATCGCC', 'TGATGATATC', 'TGATGGTGGG', 'TGCAAGGCCG', 'TGCCCCCCGG', 'TGCCGATCCG', 'TGGGCATGGG', 'TGGGGCGCCC', 'TGGGTCAGAA', 'TGTGCAAGGC', 'TTCCTATGTG', 'TTCGCGGGCG', 'TTGCCGATCC']\n",
      "[[ 0. 10. 10. ...  9.  9.  9.]\n",
      " [10.  0. 10. ... 10. 10. 10.]\n",
      " [10. 10.  0. ...  9.  9.  9.]\n",
      " ...\n",
      " [10. 10. 10. ...  0. 10. 10.]\n",
      " [10. 10. 10. ... 10.  0. 10.]\n",
      " [10. 10. 10. ... 10. 10.  0.]]\n"
     ]
    }
   ],
   "source": [
    "input_file = \"9.200-40.txt\"\n",
    "fragment_len = 10\n",
    "fragments = []\n",
    "with open(input_file) as f:\n",
    "    fragments = f.read().splitlines()\n",
    "\n",
    "\n",
    "# fragments = [\"ACT\", \"CTC\", \"GCC\", \"TCT\", \"TGG\"]\n",
    "\n",
    "print(fragments)\n",
    "\n",
    "cost = edge_cost(\"ACGAA\", \"ACGAA\")\n",
    "\n",
    "nodes =[ Node(id, frag) for id,frag in enumerate(fragments)]\n",
    "\n",
    "mat = create_cost_matrix(nodes)\n",
    "print(mat)\n"
   ]
  },
  {
   "cell_type": "code",
   "execution_count": null,
   "metadata": {},
   "outputs": [],
   "source": [
    "def evaluate_path():\n",
    "    pass"
   ]
  }
 ],
 "metadata": {
  "kernelspec": {
   "display_name": "Python 3",
   "language": "python",
   "name": "python3"
  },
  "language_info": {
   "codemirror_mode": {
    "name": "ipython",
    "version": 3
   },
   "file_extension": ".py",
   "mimetype": "text/x-python",
   "name": "python",
   "nbconvert_exporter": "python",
   "pygments_lexer": "ipython3",
   "version": "3.9.13"
  },
  "orig_nbformat": 4
 },
 "nbformat": 4,
 "nbformat_minor": 2
}
